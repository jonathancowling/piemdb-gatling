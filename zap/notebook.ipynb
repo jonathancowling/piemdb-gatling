{
 "metadata": {
  "language_info": {
   "codemirror_mode": {
    "name": "ipython",
    "version": 3
   },
   "file_extension": ".py",
   "mimetype": "text/x-python",
   "name": "python",
   "nbconvert_exporter": "python",
   "pygments_lexer": "ipython3",
   "version": "3.9.0-final"
  },
  "orig_nbformat": 2,
  "kernelspec": {
   "name": "python3",
   "display_name": "Python 3"
  }
 },
 "nbformat": 4,
 "nbformat_minor": 2,
 "cells": [
  {
   "source": [
    "Load environment from .env file using dotenv module"
   ],
   "cell_type": "markdown",
   "metadata": {}
  },
  {
   "cell_type": "code",
   "execution_count": null,
   "metadata": {},
   "outputs": [],
   "source": [
    "%reload_ext dotenv\n",
    "%dotenv"
   ]
  },
  {
   "source": [
    "specify the base url and paths to test with zap"
   ],
   "cell_type": "markdown",
   "metadata": {}
  },
  {
   "cell_type": "code",
   "execution_count": null,
   "metadata": {},
   "outputs": [],
   "source": [
    "\n",
    "base_url = os.getenv(\"ENDPOINT\")\n",
    "targets = [\n",
    "    '/',\n",
    "    '/search',\n",
    "    '/pie',\n",
    "    '/pie/uuid',\n",
    "    '/review/uuid',\n",
    "    '/submit'\n",
    "]"
   ]
  },
  {
   "source": [
    "Scan each path using zap's active scan and generate a report\n",
    "\n",
    "For this to work there must be an active zap daemon"
   ],
   "cell_type": "markdown",
   "metadata": {}
  },
  {
   "cell_type": "code",
   "execution_count": null,
   "metadata": {
    "tags": []
   },
   "outputs": [],
   "source": [
    "from IPython.display import display, Markdown\n",
    "from zapv2 import ZAPv2\n",
    "\n",
    "zap = ZAPv2()\n",
    "\n",
    "for path in targets:\n",
    "    zap.urlopen('{base_url}{path}'.format(base_url=base_url, path=path))\n",
    "\n",
    "zap.ascan.scan(base_url)\n",
    "\n",
    "display(Markdown(zap.core.mdreport()))"
   ]
  },
  {
   "cell_type": "code",
   "execution_count": null,
   "metadata": {},
   "outputs": [],
   "source": []
  }
 ]
}